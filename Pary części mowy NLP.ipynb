{
 "cells": [
  {
   "cell_type": "markdown",
   "id": "d682d880",
   "metadata": {},
   "source": [
    "## Wyświetlanie par czasownik - rzeczownik. "
   ]
  },
  {
   "cell_type": "code",
   "execution_count": 28,
   "id": "1b250148",
   "metadata": {},
   "outputs": [
    {
     "name": "stdout",
     "output_type": "stream",
     "text": [
      "ludzie (NOUN) - próbują (VERB)\n",
      "miasto (NOUN) - zmieniać (VERB)\n",
      "sąsiedzi (NOUN) - organizują (VERB)\n",
      "funkcjonowania (NOUN) - uczy (VERB)\n"
     ]
    }
   ],
   "source": [
    "# Import the spacy library\n",
    "import spacy\n",
    "\n",
    "# Load the Polish language model\n",
    "nlp = spacy.load(\"pl_core_news_lg\")\n",
    "\n",
    "# Define a sample text\n",
    "text = \"Warszawa to są dla mnie galerie, muzea, ludzie, energia, ale też hałas, tłok, korki. Nie jest tu może jak w Berlinie, ale lepiej niż w Gdańsku. Podoba mi się, że ludzie próbują zmieniać to miasto, organizują się sąsiedzi, społeczności. Jest to Babilon, ale jednak uczy funkcjonowania z innymi.\"\n",
    "# Tokenize the text\n",
    "doc = nlp(text)\n",
    "\n",
    "# Collect the pairs of verbs and nouns\n",
    "verb_noun_pairs = []\n",
    "for token in doc:\n",
    "    if (token.pos_ == \"VERB\" and token.head.pos_ == \"NOUN\") or (token.pos_ == \"NOUN\" and token.head.pos_ == \"VERB\"):\n",
    "        verb_noun_pairs.append((token, token.head))\n",
    "\n",
    "# Print the pairs of verbs and nouns\n",
    "for verb, noun in verb_noun_pairs:\n",
    "    print(f\"{verb.text} ({verb.pos_}) - {noun.text} ({noun.pos_})\")\n"
   ]
  },
  {
   "cell_type": "markdown",
   "id": "510d1912",
   "metadata": {},
   "source": [
    "# Pary przymiotniki - rzeczowniki"
   ]
  },
  {
   "cell_type": "code",
   "execution_count": 46,
   "id": "832b5fe5",
   "metadata": {},
   "outputs": [
    {
     "name": "stdout",
     "output_type": "stream",
     "text": [
      "pięknego (ADJ) - kota (NOUN)\n",
      "czarnego (ADJ) - kota (NOUN)\n",
      "Onyks (NOUN) - duży (ADJ)\n",
      "najwyższe (ADJ) - drzewa (NOUN)\n",
      "zaprzyjaźnionymi (ADJ) - psami (NOUN)\n",
      "wielkie (ADJ) - oczy (NOUN)\n",
      "okrągłe (ADJ) - oczy (NOUN)\n",
      "żółte (ADJ) - oczy (NOUN)\n",
      "większe (ADJ) - uszyska (NOUN)\n",
      "szpiczaste (ADJ) - uszyska (NOUN)\n",
      "najważniejsze (ADJ) - serce (NOUN)\n",
      "złote (ADJ) - serce (NOUN)\n",
      "Onyks (NOUN) - pogodny (ADJ)\n",
      "pogodny (ADJ) - kot (NOUN)\n"
     ]
    }
   ],
   "source": [
    "# Import the spacy library\n",
    "import spacy\n",
    "\n",
    "# Load the Polish language model\n",
    "nlp = spacy.load(\"pl_core_news_lg\")\n",
    "\n",
    "# Define a sample text\n",
    "text = \"Mała Ala ma pięknego czarnego kota Onyksa. Onyks jest duży, a właściwie wysoki i długi, ale chudy. To dlatego, że kiedy tylko nie pada, Onyks biega po ogrodzie, wspina się na najwyższe drzewa i goni z zaprzyjaźnionymi psami.Kot Ali ma też wielkie okrągłe żółte oczy, jeszcze większe szpiczaste uszyska, a co najważniejsze – złote serce. Onyks to najbardziej pogodny, towarzyski, cierpliwy i łagodny kot, jakiego znam!\"\n",
    "\n",
    "# Tokenize the text\n",
    "doc = nlp(text)\n",
    "\n",
    "try:\n",
    "    # Collect the pairs of nouns and adjectives\n",
    "    noun_adj_pairs = []\n",
    "    for token in doc:\n",
    "        if (token.pos_ == \"NOUN\" and token.head.pos_ == \"ADJ\") or (token.pos_ == \"ADJ\" and token.head.pos_ == \"NOUN\"):\n",
    "            noun_adj_pairs.append((token, token.head))\n",
    "            print(f\"{token.text} ({token.pos_}) - {token.head.text} ({token.head.pos_})\")\n",
    "except Exception as e:\n",
    "    print(e)\n"
   ]
  },
  {
   "cell_type": "markdown",
   "id": "258b9621",
   "metadata": {},
   "source": [
    "# Pary czasownik - przymiotnik"
   ]
  },
  {
   "cell_type": "code",
   "execution_count": 48,
   "id": "8c7f78a0",
   "metadata": {},
   "outputs": [],
   "source": [
    "# Import the spacy library\n",
    "import spacy\n",
    "\n",
    "# Load the Polish language model\n",
    "nlp = spacy.load(\"pl_core_news_lg\")\n",
    "\n",
    "# Define a sample text\n",
    "text = \"Mała Ala ma pięknego czarnego kota Onyksa. Onyks jest duży, a właściwie wysoki i długi, ale chudy. To dlatego, że kiedy tylko nie pada, Onyks biega po ogrodzie, wspina się na najwyższe drzewa i goni z zaprzyjaźnionymi psami.Kot Ali ma też wielkie okrągłe żółte oczy, jeszcze większe szpiczaste uszyska, a co najważniejsze – złote serce. Onyks to najbardziej pogodny, towarzyski, cierpliwy i łagodny kot, jakiego znam!\"\n",
    "\n",
    "# Tokenize the text\n",
    "doc = nlp(text)\n",
    "\n",
    "try:\n",
    "    # Collect the pairs of adjectives and verbs\n",
    "    adj_verb_pairs = []\n",
    "    for token in doc:\n",
    "        if (token.pos_ == \"VERB\" and token.head.pos_ == \"ADJ\") or (token.pos_ == \"ADJ\" and token.head.pos_ == \"VERB\"):\n",
    "            adj_verb_pairs.append((token, token.head))\n",
    "\n",
    "    # Print the pairs of adjectives and verbs\n",
    "    for adj, verb in adj_verb_pairs:\n",
    "        print(f\"{adj.text} ({adj.pos_}) - {verb.text} ({verb.pos_})\")\n",
    "except Exception as e:\n",
    "    print(e)\n"
   ]
  },
  {
   "cell_type": "markdown",
   "id": "bff642a6",
   "metadata": {},
   "source": [
    "Topic modeling. Nie dziłąa"
   ]
  },
  {
   "cell_type": "markdown",
   "id": "fbd793a2",
   "metadata": {},
   "source": [
    "## Pokazuje pary - przymiotnik rzeczownik - oraz zdania z których pochodzą."
   ]
  },
  {
   "cell_type": "code",
   "execution_count": 47,
   "id": "a0ba3b80",
   "metadata": {},
   "outputs": [
    {
     "name": "stdout",
     "output_type": "stream",
     "text": [
      "Sentence: Mała Ala ma pięknego czarnego kota Onyksa.\n",
      "pięknego (ADJ) - kota (NOUN)\n",
      "\n",
      "Sentence: Mała Ala ma pięknego czarnego kota Onyksa.\n",
      "czarnego (ADJ) - kota (NOUN)\n",
      "\n",
      "Sentence: Onyks jest duży, a właściwie wysoki i długi, ale chudy.\n",
      "Onyks (NOUN) - duży (ADJ)\n",
      "\n",
      "Sentence: To dlatego, że kiedy tylko nie pada, Onyks biega po ogrodzie, wspina się na najwyższe drzewa i goni z zaprzyjaźnionymi psami.\n",
      "najwyższe (ADJ) - drzewa (NOUN)\n",
      "\n",
      "Sentence: To dlatego, że kiedy tylko nie pada, Onyks biega po ogrodzie, wspina się na najwyższe drzewa i goni z zaprzyjaźnionymi psami.\n",
      "zaprzyjaźnionymi (ADJ) - psami (NOUN)\n",
      "\n",
      "Sentence: Kot Ali ma też wielkie okrągłe żółte oczy, jeszcze większe szpiczaste uszyska, a co najważniejsze – złote serce.\n",
      "wielkie (ADJ) - oczy (NOUN)\n",
      "\n",
      "Sentence: Kot Ali ma też wielkie okrągłe żółte oczy, jeszcze większe szpiczaste uszyska, a co najważniejsze – złote serce.\n",
      "okrągłe (ADJ) - oczy (NOUN)\n",
      "\n",
      "Sentence: Kot Ali ma też wielkie okrągłe żółte oczy, jeszcze większe szpiczaste uszyska, a co najważniejsze – złote serce.\n",
      "żółte (ADJ) - oczy (NOUN)\n",
      "\n",
      "Sentence: Kot Ali ma też wielkie okrągłe żółte oczy, jeszcze większe szpiczaste uszyska, a co najważniejsze – złote serce.\n",
      "większe (ADJ) - uszyska (NOUN)\n",
      "\n",
      "Sentence: Kot Ali ma też wielkie okrągłe żółte oczy, jeszcze większe szpiczaste uszyska, a co najważniejsze – złote serce.\n",
      "szpiczaste (ADJ) - uszyska (NOUN)\n",
      "\n",
      "Sentence: Kot Ali ma też wielkie okrągłe żółte oczy, jeszcze większe szpiczaste uszyska, a co najważniejsze – złote serce.\n",
      "najważniejsze (ADJ) - serce (NOUN)\n",
      "\n",
      "Sentence: Kot Ali ma też wielkie okrągłe żółte oczy, jeszcze większe szpiczaste uszyska, a co najważniejsze – złote serce.\n",
      "złote (ADJ) - serce (NOUN)\n",
      "\n",
      "Sentence: Onyks to najbardziej pogodny, towarzyski, cierpliwy i łagodny kot, jakiego znam!\n",
      "Onyks (NOUN) - pogodny (ADJ)\n",
      "\n",
      "Sentence: Onyks to najbardziej pogodny, towarzyski, cierpliwy i łagodny kot, jakiego znam!\n",
      "pogodny (ADJ) - kot (NOUN)\n",
      "\n"
     ]
    }
   ],
   "source": [
    "# Import the spacy library\n",
    "import spacy\n",
    "\n",
    "# Load the Polish language model\n",
    "nlp = spacy.load(\"pl_core_news_lg\")\n",
    "\n",
    "# Define a sample text\n",
    "text = \"Mała Ala ma pięknego czarnego kota Onyksa. Onyks jest duży, a właściwie wysoki i długi, ale chudy. To dlatego, że kiedy tylko nie pada, Onyks biega po ogrodzie, wspina się na najwyższe drzewa i goni z zaprzyjaźnionymi psami.Kot Ali ma też wielkie okrągłe żółte oczy, jeszcze większe szpiczaste uszyska, a co najważniejsze – złote serce. Onyks to najbardziej pogodny, towarzyski, cierpliwy i łagodny kot, jakiego znam!\"\n",
    "\n",
    "# Tokenize the text\n",
    "doc = nlp(text)\n",
    "\n",
    "try:\n",
    "    # Iterate over the sentences in the document\n",
    "    for sent in doc.sents:\n",
    "        # Collect the pairs of nouns and adjectives in the sentence\n",
    "        noun_adj_pairs = []\n",
    "        for token in sent:\n",
    "            if (token.pos_ == \"NOUN\" and token.head.pos_ == \"ADJ\") or (token.pos_ == \"ADJ\" and token.head.pos_ == \"NOUN\"):\n",
    "                noun_adj_pairs.append((token, token.head))\n",
    "\n",
    "        # Print the pairs of nouns and adjectives in the sentence\n",
    "        for noun, adj in noun_adj_pairs:\n",
    "            print(f\"Sentence: {sent.text.strip()}\")\n",
    "            print(f\"{noun.text} ({noun.pos_}) - {adj.text} ({adj.pos_})\")\n",
    "            print()\n",
    "except Exception as e:\n",
    "    print(e)\n"
   ]
  },
  {
   "cell_type": "markdown",
   "id": "c11cb2b1",
   "metadata": {},
   "source": [
    "# noun chunks - nie działa"
   ]
  },
  {
   "cell_type": "code",
   "execution_count": 57,
   "id": "c69a8ce4",
   "metadata": {},
   "outputs": [
    {
     "ename": "NotImplementedError",
     "evalue": "[E894] The 'noun_chunks' syntax iterator is not implemented for language 'pl'.",
     "output_type": "error",
     "traceback": [
      "\u001b[0;31m---------------------------------------------------------------------------\u001b[0m",
      "\u001b[0;31mNotImplementedError\u001b[0m                       Traceback (most recent call last)",
      "Cell \u001b[0;32mIn[57], line 13\u001b[0m\n\u001b[1;32m     10\u001b[0m doc \u001b[38;5;241m=\u001b[39m nlp(text)\n\u001b[1;32m     12\u001b[0m \u001b[38;5;66;03m# Extract the noun chunks\u001b[39;00m\n\u001b[0;32m---> 13\u001b[0m \u001b[38;5;28;01mfor\u001b[39;00m chunk \u001b[38;5;129;01min\u001b[39;00m doc\u001b[38;5;241m.\u001b[39mnoun_chunks:\n\u001b[1;32m     14\u001b[0m     \u001b[38;5;28mprint\u001b[39m(chunk\u001b[38;5;241m.\u001b[39mtext)\n",
      "File \u001b[0;32m/opt/homebrew/lib/python3.10/site-packages/spacy/tokens/doc.pyx:867\u001b[0m, in \u001b[0;36mnoun_chunks\u001b[0;34m()\u001b[0m\n",
      "\u001b[0;31mNotImplementedError\u001b[0m: [E894] The 'noun_chunks' syntax iterator is not implemented for language 'pl'."
     ]
    }
   ],
   "source": [
    "import spacy\n",
    "\n",
    "# Load the Polish language model\n",
    "nlp = spacy.load(\"pl_core_news_lg\")\n",
    "\n",
    "# Define a sample text\n",
    "text = \"Mała Ala ma pięknego czarnego kota Onyksa. Onyks jest duży, a właściwie wysoki i długi, ale chudy. To dlatego, że kiedy tylko nie pada, Onyks biega po ogrodzie, wspina się na najwyższe drzewa i goni z zaprzyjaźnionymi psami.Kot Ali ma też wielkie okrągłe żółte oczy, jeszcze większe szpiczaste uszyska, a co najważniejsze – złote serce. Onyks to najbardziej pogodny, towarzyski, cierpliwy i łagodny kot, jakiego znam!\"\n",
    "\n",
    "# Tokenize the text\n",
    "doc = nlp(text)\n",
    "\n",
    "# Extract the noun chunks\n",
    "for chunk in doc.noun_chunks:\n",
    "    print(chunk.text)\n"
   ]
  },
  {
   "cell_type": "markdown",
   "id": "c72819f2",
   "metadata": {},
   "source": [
    "# alternatywa dla noun chunks"
   ]
  },
  {
   "cell_type": "code",
   "execution_count": 58,
   "id": "9c2e9fe4",
   "metadata": {},
   "outputs": [
    {
     "name": "stdout",
     "output_type": "stream",
     "text": [
      "pięknego czarnego kota Onyksa\n",
      "Onyks\n",
      "po ogrodzie\n",
      "na najwyższe drzewa\n",
      "z zaprzyjaźnionymi psami\n",
      "Kot Ali\n",
      "wielkie okrągłe żółte oczy\n",
      ", jeszcze większe szpiczaste uszyska\n",
      ", a co najważniejsze – złote serce\n",
      "Onyks\n",
      "Onyks to najbardziej pogodny , towarzyski , cierpliwy i łagodny kot , jakiego znam !\n"
     ]
    }
   ],
   "source": [
    "import spacy\n",
    "\n",
    "# Load the Polish language model\n",
    "nlp = spacy.load(\"pl_core_news_lg\")\n",
    "\n",
    "# Define a sample text\n",
    "text = \"Mała Ala ma pięknego czarnego kota Onyksa. Onyks jest duży, a właściwie wysoki i długi, ale chudy. To dlatego, że kiedy tylko nie pada, Onyks biega po ogrodzie, wspina się na najwyższe drzewa i goni z zaprzyjaźnionymi psami.Kot Ali ma też wielkie okrągłe żółte oczy, jeszcze większe szpiczaste uszyska, a co najważniejsze – złote serce. Onyks to najbardziej pogodny, towarzyski, cierpliwy i łagodny kot, jakiego znam!\"\n",
    "\n",
    "# Tokenize the text\n",
    "doc = nlp(text)\n",
    "\n",
    "# Extract the noun phrases\n",
    "for token in doc:\n",
    "    if token.pos_ == \"NOUN\":\n",
    "        noun_phrase = [t.text for t in token.subtree]\n",
    "        print(\" \".join(noun_phrase))\n"
   ]
  },
  {
   "cell_type": "markdown",
   "id": "6694b2d1",
   "metadata": {},
   "source": [
    "## NGrams "
   ]
  },
  {
   "cell_type": "code",
   "execution_count": 78,
   "id": "a5b41c65",
   "metadata": {},
   "outputs": [
    {
     "name": "stdout",
     "output_type": "stream",
     "text": [
      "('Mała', 'Ala')\n",
      "('Ala', 'ma')\n",
      "('ma', 'pięknego')\n",
      "('pięknego', 'czarnego')\n",
      "('czarnego', 'kota')\n",
      "('kota', 'Onyksa')\n",
      "('Onyksa', '.')\n",
      "('.', 'Onyks')\n",
      "('Onyks', 'jest')\n",
      "('jest', 'duży')\n",
      "('duży', ',')\n",
      "(',', 'a')\n",
      "('a', 'właściwie')\n",
      "('właściwie', 'wysoki')\n",
      "('wysoki', 'i')\n",
      "('i', 'długi')\n",
      "('długi', ',')\n",
      "(',', 'ale')\n",
      "('ale', 'chudy')\n",
      "('chudy', '.')\n",
      "('.', 'To')\n",
      "('To', 'dlatego')\n",
      "('dlatego', ',')\n",
      "(',', 'że')\n",
      "('że', 'kiedy')\n",
      "('kiedy', 'tylko')\n",
      "('tylko', 'nie')\n",
      "('nie', 'pada')\n",
      "('pada', ',')\n",
      "(',', 'Onyks')\n",
      "('Onyks', 'biega')\n",
      "('biega', 'po')\n",
      "('po', 'ogrodzie')\n",
      "('ogrodzie', ',')\n",
      "(',', 'wspina')\n",
      "('wspina', 'się')\n",
      "('się', 'na')\n",
      "('na', 'najwyższe')\n",
      "('najwyższe', 'drzewa')\n",
      "('drzewa', 'i')\n",
      "('i', 'goni')\n",
      "('goni', 'z')\n",
      "('z', 'zaprzyjaźnionymi')\n",
      "('zaprzyjaźnionymi', 'psami')\n",
      "('psami', '.')\n",
      "('.', 'Kot')\n",
      "('Kot', 'Ali')\n",
      "('Ali', 'ma')\n",
      "('ma', 'też')\n",
      "('też', 'wielkie')\n",
      "('wielkie', 'okrągłe')\n",
      "('okrągłe', 'żółte')\n",
      "('żółte', 'oczy')\n",
      "('oczy', ',')\n",
      "(',', 'jeszcze')\n",
      "('jeszcze', 'większe')\n",
      "('większe', 'szpiczaste')\n",
      "('szpiczaste', 'uszyska')\n",
      "('uszyska', ',')\n",
      "(',', 'a')\n",
      "('a', 'co')\n",
      "('co', 'najważniejsze')\n",
      "('najważniejsze', '–')\n",
      "('–', 'złote')\n",
      "('złote', 'serce')\n",
      "('serce', '.')\n",
      "('.', 'Onyks')\n",
      "('Onyks', 'to')\n",
      "('to', 'najbardziej')\n",
      "('najbardziej', 'pogodny')\n",
      "('pogodny', ',')\n",
      "(',', 'towarzyski')\n",
      "('towarzyski', ',')\n",
      "(',', 'cierpliwy')\n",
      "('cierpliwy', 'i')\n",
      "('i', 'łagodny')\n",
      "('łagodny', 'kot')\n",
      "('kot', ',')\n",
      "(',', 'jakiego')\n",
      "('jakiego', 'znam')\n",
      "('znam', '!')\n"
     ]
    }
   ],
   "source": [
    "import spacy\n",
    "\n",
    "# Load the default spaCy model\n",
    "nlp = spacy.load(\"pl_core_news_lg\")\n",
    "\n",
    "# Process the text with spaCy\n",
    "doc = nlp(\"Mała Ala ma pięknego czarnego kota Onyksa. Onyks jest duży, a właściwie wysoki i długi, ale chudy. To dlatego, że kiedy tylko nie pada, Onyks biega po ogrodzie, wspina się na najwyższe drzewa i goni z zaprzyjaźnionymi psami.Kot Ali ma też wielkie okrągłe żółte oczy, jeszcze większe szpiczaste uszyska, a co najważniejsze – złote serce. Onyks to najbardziej pogodny, towarzyski, cierpliwy i łagodny kot, jakiego znam!\")\n",
    "\n",
    "# Extract bigrams\n",
    "bigrams = []\n",
    "for i in range(len(doc) - 1):\n",
    "    bigram = (doc[i].text, doc[i + 1].text)\n",
    "    bigrams.append(bigram)\n",
    "\n",
    "# Print the bigrams\n",
    "for bigram in bigrams:\n",
    "    print(bigram)\n"
   ]
  },
  {
   "cell_type": "markdown",
   "id": "bcb8fa2b",
   "metadata": {},
   "source": [
    "## Bigramy więcej niż dwa razy"
   ]
  },
  {
   "cell_type": "code",
   "execution_count": 80,
   "id": "74ec739b",
   "metadata": {},
   "outputs": [
    {
     "name": "stdout",
     "output_type": "stream",
     "text": [
      "('.', 'Onyks')\n",
      "(',', 'a')\n"
     ]
    }
   ],
   "source": [
    "import spacy\n",
    "from collections import Counter\n",
    "\n",
    "# Load the default spaCy model\n",
    "nlp = spacy.load(\"pl_core_news_lg\")\n",
    "\n",
    "# Process the text with spaCy\n",
    "doc = nlp(\"Mała Ala ma pięknego czarnego kota Onyksa. Onyks jest duży, a właściwie wysoki i długi, ale chudy. To dlatego, że kiedy tylko nie pada, Onyks biega po ogrodzie, wspina się na najwyższe drzewa i goni z zaprzyjaźnionymi psami.Kot Ali ma też wielkie okrągłe żółte oczy, jeszcze większe szpiczaste uszyska, a co najważniejsze – złote serce. Onyks to najbardziej pogodny, towarzyski, cierpliwy i łagodny kot, jakiego znam!\")\n",
    "\n",
    "# Extract bigrams\n",
    "bigrams = []\n",
    "for i in range(len(doc) - 1):\n",
    "    bigram = (doc[i].text, doc[i + 1].text)\n",
    "    bigrams.append(bigram)\n",
    "\n",
    "# Count the number of times each bigram appears\n",
    "bigram_counts = Counter(bigrams)\n",
    "# Print only the bigrams that appear 2 or more times\n",
    "for bigram, count in bigram_counts.items():\n",
    "    if count >= 2:\n",
    "        print(bigram)"
   ]
  },
  {
   "cell_type": "code",
   "execution_count": 81,
   "id": "96100339",
   "metadata": {},
   "outputs": [
    {
     "name": "stdout",
     "output_type": "stream",
     "text": [
      "Mała\n",
      "Ala\n",
      "pięknego\n",
      "czarnego\n",
      "kota\n",
      "Onyksa\n",
      "Onyks\n",
      "duży\n",
      "właściwie\n",
      "wysoki\n",
      "długi\n",
      "chudy\n",
      "pada\n",
      "Onyks\n",
      "biega\n",
      "ogrodzie\n",
      "wspina\n",
      "najwyższe\n",
      "drzewa\n",
      "goni\n",
      "zaprzyjaźnionymi\n",
      "psami\n",
      "Kot\n",
      "Ali\n",
      "wielkie\n",
      "okrągłe\n",
      "żółte\n",
      "oczy\n",
      "większe\n",
      "szpiczaste\n",
      "uszyska\n",
      "najważniejsze\n",
      "złote\n",
      "serce\n",
      "Onyks\n",
      "najbardziej\n",
      "pogodny\n",
      "towarzyski\n",
      "cierpliwy\n",
      "łagodny\n",
      "kot\n",
      "jakiego\n",
      "znam\n"
     ]
    }
   ],
   "source": [
    "import spacy\n",
    "from spacy.lang.pl.stop_words import STOP_WORDS\n",
    "\n",
    "# Load the default spaCy model\n",
    "nlp = spacy.load(\"pl_core_news_lg\")\n",
    "\n",
    "# Define the text to process\n",
    "text = \"Mała Ala ma pięknego czarnego kota Onyksa. Onyks jest duży, a właściwie wysoki i długi, ale chudy. To dlatego, że kiedy tylko nie pada, Onyks biega po ogrodzie, wspina się na najwyższe drzewa i goni z zaprzyjaźnionymi psami.Kot Ali ma też wielkie okrągłe żółte oczy, jeszcze większe szpiczaste uszyska, a co najważniejsze – złote serce. Onyks to najbardziej pogodny, towarzyski, cierpliwy i łagodny kot, jakiego znam!\"\n",
    "\n",
    "# Process the text with spaCy\n",
    "doc = nlp(text)\n",
    "\n",
    "# Print the tokens\n",
    "for token in doc:\n",
    "    # Check if the token is not punctuation and is not a stop word\n",
    "    if not token.is_punct and not token.is_stop:\n",
    "        print(token.text)\n"
   ]
  },
  {
   "cell_type": "code",
   "execution_count": null,
   "id": "d62f207a",
   "metadata": {},
   "outputs": [],
   "source": []
  }
 ],
 "metadata": {
  "kernelspec": {
   "display_name": "Python 3 (ipykernel)",
   "language": "python",
   "name": "python3"
  },
  "language_info": {
   "codemirror_mode": {
    "name": "ipython",
    "version": 3
   },
   "file_extension": ".py",
   "mimetype": "text/x-python",
   "name": "python",
   "nbconvert_exporter": "python",
   "pygments_lexer": "ipython3",
   "version": "3.10.8"
  }
 },
 "nbformat": 4,
 "nbformat_minor": 5
}
